{
 "cells": [
  {
   "cell_type": "code",
   "execution_count": 1,
   "metadata": {
    "collapsed": true
   },
   "outputs": [],
   "source": [
    "from anytree import Node, RenderTree\n",
    "from anytree.dotexport import RenderTreeGraph\n",
    "from anytree import Walker\n",
    "from anytree import Resolver"
   ]
  },
  {
   "cell_type": "code",
   "execution_count": 2,
   "metadata": {
    "collapsed": true
   },
   "outputs": [],
   "source": [
    "class forest:\n",
    "    def __init__(self):\n",
    "        self.forest=[]\n",
    "        root=Node(\"root\")\n",
    "        self.forest.append(root)\n",
    "        \n",
    "    def add_tree(self, tree):\n",
    "        self.forest.append(tree)\n",
    "        \n",
    "    def find_tree_w_root(self, node):\n",
    "        for tree in self.forest:\n",
    "            if(tree.root == node):\n",
    "                return tree\n",
    "            \n",
    "    def find_tree_w_node(self, node):\n",
    "        walker=Walker()\n",
    "        paths=[]\n",
    "        for tree in self.forest:\n",
    "            try:\n",
    "                path=walker.walk(tree,node)[-1][-1]\n",
    "                paths.append(path)\n",
    "            except:\n",
    "                pass\n",
    "        if(len(paths)>0):\n",
    "            return(True, paths)\n",
    "        else:\n",
    "            return(False)\n",
    "        \n",
    "    def find_tree_w_emotion(self, emo):\n",
    "        trees=[]\n",
    "        for tree in self.forest:\n",
    "            try:\n",
    "                for child in tree.root.descendants:\n",
    "                    if(child.name==emo):\n",
    "                        trees.append(tree)\n",
    "            except:\n",
    "                pass\n",
    "        if(len(trees)>0):\n",
    "            return(True, trees)\n",
    "        else:\n",
    "            return(False)\n",
    "        \n",
    "    def print_all_trees(self):\n",
    "        for tree in self.forest:\n",
    "            for pre, fill, node in RenderTree(tree.root):\n",
    "                print(\"%s%s\" % (pre, node.name))\n",
    "            "
   ]
  },
  {
   "cell_type": "code",
   "execution_count": 3,
   "metadata": {
    "collapsed": true
   },
   "outputs": [],
   "source": [
    "for_obj= forest()"
   ]
  },
  {
   "cell_type": "code",
   "execution_count": 4,
   "metadata": {},
   "outputs": [
    {
     "name": "stdout",
     "output_type": "stream",
     "text": [
      "root\n"
     ]
    }
   ],
   "source": [
    "happy=Node(\"happy\")\n",
    "\n",
    "neutral=Node(\"neutral\",parent=happy)\n",
    "neutral=Node(\"neutral\",parent=neutral)\n",
    "neutral=Node(\"neutral\",parent=neutral)\n",
    "\n",
    "bored=Node(\"bored\",parent=neutral)\n",
    "\n",
    "excited=Node(\"excited\",parent=bored)\n",
    "\n",
    "fun=Node(\"fun\")\n",
    "neutral=Node(\"neutral\",parent=fun)\n",
    "neutral=Node(\"neutral\",parent=neutral)\n",
    "neutral=Node(\"neutral\",parent=neutral)\n",
    "\n",
    "for tree in for_obj.forest:\n",
    "    for pre, fill, node in RenderTree(tree.root):\n",
    "        print(\"%s%s\" % (pre, node.name))"
   ]
  },
  {
   "cell_type": "code",
   "execution_count": 5,
   "metadata": {},
   "outputs": [
    {
     "name": "stdout",
     "output_type": "stream",
     "text": [
      "happy\n",
      "└── neutral\n",
      "    └── neutral\n",
      "        └── neutral\n",
      "            └── bored\n",
      "                └── excited\n"
     ]
    }
   ],
   "source": [
    "for_obj.add_tree(happy)\n",
    "\n",
    "for_obj.add_tree(fun)\n",
    "\n",
    "for pre, fill, node in RenderTree(for_obj.find_tree_w_root(for_obj.find_tree_w_root(excited.root))):\n",
    "    print(\"%s%s\" % (pre, node.name))\n",
    "\n",
    "emotion=\"sad\"\n",
    "new_emotion=Node(\"sad\")\n",
    "\n",
    "past_5_emotions=[\"neutral\",\"neutral\",\"depressed\",\"neutral\",\"sad\"]\n",
    "\n",
    "for_obj.find_tree_w_node(new_emotion)\n",
    "\n",
    "index=0\n",
    "past_5_nodes=[]\n",
    "for past in past_5_emotions:\n",
    "    if(index==0):\n",
    "        node=Node(past_5_emotions[index])\n",
    "    else:\n",
    "        node=Node(past_5_emotions[index], parent=past_5_nodes[index-1])\n",
    "    past_5_nodes.append(node)\n",
    "    index+=1\n",
    "\n",
    "past_5_nodes\n",
    "\n",
    "for_obj.add_tree(past_5_nodes[0])"
   ]
  },
  {
   "cell_type": "code",
   "execution_count": 6,
   "metadata": {},
   "outputs": [
    {
     "name": "stdout",
     "output_type": "stream",
     "text": [
      "root\n",
      "happy\n",
      "└── neutral\n",
      "    └── neutral\n",
      "        └── neutral\n",
      "            └── bored\n",
      "                └── excited\n",
      "fun\n",
      "└── neutral\n",
      "    └── neutral\n",
      "        └── neutral\n",
      "neutral\n",
      "└── neutral\n",
      "    └── depressed\n",
      "        └── neutral\n",
      "            └── sad\n"
     ]
    }
   ],
   "source": [
    "for_obj.print_all_trees()"
   ]
  },
  {
   "cell_type": "code",
   "execution_count": 7,
   "metadata": {},
   "outputs": [
    {
     "data": {
      "text/plain": [
       "(True, [Node('/happy')])"
      ]
     },
     "execution_count": 7,
     "metadata": {},
     "output_type": "execute_result"
    }
   ],
   "source": [
    "for_obj.find_tree_w_emotion(\"bored\")"
   ]
  },
  {
   "cell_type": "code",
   "execution_count": 8,
   "metadata": {},
   "outputs": [
    {
     "data": {
      "text/plain": [
       "False"
      ]
     },
     "execution_count": 8,
     "metadata": {},
     "output_type": "execute_result"
    }
   ],
   "source": [
    "for_obj.find_tree_w_node(\"bored\")"
   ]
  },
  {
   "cell_type": "code",
   "execution_count": 9,
   "metadata": {
    "collapsed": true
   },
   "outputs": [],
   "source": [
    "r = Resolver('name')"
   ]
  },
  {
   "cell_type": "code",
   "execution_count": 10,
   "metadata": {},
   "outputs": [
    {
     "data": {
      "text/plain": [
       "[]"
      ]
     },
     "execution_count": 10,
     "metadata": {},
     "output_type": "execute_result"
    }
   ],
   "source": [
    "r.glob(for_obj.forest[1].root,'*/bored')"
   ]
  },
  {
   "cell_type": "code",
   "execution_count": 11,
   "metadata": {
    "collapsed": true
   },
   "outputs": [],
   "source": [
    "walker=Walker()"
   ]
  },
  {
   "cell_type": "code",
   "execution_count": 12,
   "metadata": {},
   "outputs": [
    {
     "ename": "WalkError",
     "evalue": "Node('/happy') and Node('/bored') are not part of the same tree.",
     "output_type": "error",
     "traceback": [
      "\u001b[1;31m---------------------------------------------------------------------------\u001b[0m",
      "\u001b[1;31mWalkError\u001b[0m                                 Traceback (most recent call last)",
      "\u001b[1;32m<ipython-input-12-9e1c1445f8d6>\u001b[0m in \u001b[0;36m<module>\u001b[1;34m()\u001b[0m\n\u001b[1;32m----> 1\u001b[1;33m \u001b[0mwalker\u001b[0m\u001b[1;33m.\u001b[0m\u001b[0mwalk\u001b[0m\u001b[1;33m(\u001b[0m\u001b[0mfor_obj\u001b[0m\u001b[1;33m.\u001b[0m\u001b[0mforest\u001b[0m\u001b[1;33m[\u001b[0m\u001b[1;36m1\u001b[0m\u001b[1;33m]\u001b[0m\u001b[1;33m.\u001b[0m\u001b[0mroot\u001b[0m\u001b[1;33m,\u001b[0m \u001b[0mNode\u001b[0m\u001b[1;33m(\u001b[0m\u001b[1;34m\"bored\"\u001b[0m\u001b[1;33m)\u001b[0m\u001b[1;33m)\u001b[0m\u001b[1;33m\u001b[0m\u001b[0m\n\u001b[0m",
      "\u001b[1;32mc:\\users\\kavin\\appdata\\local\\programs\\python\\python35\\lib\\site-packages\\anytree\\walker.py\u001b[0m in \u001b[0;36mwalk\u001b[1;34m(self, start, end)\u001b[0m\n\u001b[0;32m     68\u001b[0m         \u001b[1;32mif\u001b[0m \u001b[0mstart\u001b[0m\u001b[1;33m.\u001b[0m\u001b[0mroot\u001b[0m \u001b[1;33m!=\u001b[0m \u001b[0mend\u001b[0m\u001b[1;33m.\u001b[0m\u001b[0mroot\u001b[0m\u001b[1;33m:\u001b[0m\u001b[1;33m\u001b[0m\u001b[0m\n\u001b[0;32m     69\u001b[0m             \u001b[0mmsg\u001b[0m \u001b[1;33m=\u001b[0m \u001b[1;34m\"%r and %r are not part of the same tree.\"\u001b[0m \u001b[1;33m%\u001b[0m \u001b[1;33m(\u001b[0m\u001b[0mstart\u001b[0m\u001b[1;33m,\u001b[0m \u001b[0mend\u001b[0m\u001b[1;33m)\u001b[0m\u001b[1;33m\u001b[0m\u001b[0m\n\u001b[1;32m---> 70\u001b[1;33m             \u001b[1;32mraise\u001b[0m \u001b[0mWalkError\u001b[0m\u001b[1;33m(\u001b[0m\u001b[0mmsg\u001b[0m\u001b[1;33m)\u001b[0m\u001b[1;33m\u001b[0m\u001b[0m\n\u001b[0m\u001b[0;32m     71\u001b[0m         \u001b[1;31m# common\u001b[0m\u001b[1;33m\u001b[0m\u001b[1;33m\u001b[0m\u001b[0m\n\u001b[0;32m     72\u001b[0m         \u001b[0mc\u001b[0m \u001b[1;33m=\u001b[0m \u001b[0mWalker\u001b[0m\u001b[1;33m.\u001b[0m\u001b[0m__calc_common\u001b[0m\u001b[1;33m(\u001b[0m\u001b[0ms\u001b[0m\u001b[1;33m,\u001b[0m \u001b[0me\u001b[0m\u001b[1;33m)\u001b[0m\u001b[1;33m\u001b[0m\u001b[0m\n",
      "\u001b[1;31mWalkError\u001b[0m: Node('/happy') and Node('/bored') are not part of the same tree."
     ]
    }
   ],
   "source": [
    "walker.walk(for_obj.forest[1].root, Node(\"bored\"))"
   ]
  },
  {
   "cell_type": "code",
   "execution_count": null,
   "metadata": {
    "collapsed": true
   },
   "outputs": [],
   "source": [
    "for nodes in for_obj.forest[1].root.descendants:\n",
    "    print(nodes.name)"
   ]
  }
 ],
 "metadata": {
  "kernelspec": {
   "display_name": "Python 2",
   "language": "python",
   "name": "python2"
  },
  "language_info": {
   "codemirror_mode": {
    "name": "ipython",
    "version": 2
   },
   "file_extension": ".py",
   "mimetype": "text/x-python",
   "name": "python",
   "nbconvert_exporter": "python",
   "pygments_lexer": "ipython2",
   "version": "2.7.12"
  }
 },
 "nbformat": 4,
 "nbformat_minor": 2
}
